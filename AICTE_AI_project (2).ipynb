{
  "cells": [
    {
      "cell_type": "code",
      "execution_count": null,
      "metadata": {
        "colab": {
          "base_uri": "https://localhost:8080/"
        },
        "id": "AtbXtvgPrrNx",
        "outputId": "c361b473-e7cc-4dd9-f4df-262a543b11d0"
      },
      "outputs": [
        {
          "output_type": "stream",
          "name": "stdout",
          "text": [
            "Requirement already satisfied: flask-ngrok in /usr/local/lib/python3.12/dist-packages (0.0.25)\n",
            "Requirement already satisfied: openai-whisper in /usr/local/lib/python3.12/dist-packages (20250625)\n",
            "Requirement already satisfied: transformers in /usr/local/lib/python3.12/dist-packages (4.57.0)\n",
            "Requirement already satisfied: torch in /usr/local/lib/python3.12/dist-packages (2.8.0+cu126)\n",
            "Requirement already satisfied: Flask>=0.8 in /usr/local/lib/python3.12/dist-packages (from flask-ngrok) (3.1.2)\n",
            "Requirement already satisfied: requests in /usr/local/lib/python3.12/dist-packages (from flask-ngrok) (2.32.4)\n",
            "Requirement already satisfied: more-itertools in /usr/local/lib/python3.12/dist-packages (from openai-whisper) (10.8.0)\n",
            "Requirement already satisfied: numba in /usr/local/lib/python3.12/dist-packages (from openai-whisper) (0.60.0)\n",
            "Requirement already satisfied: numpy in /usr/local/lib/python3.12/dist-packages (from openai-whisper) (2.0.2)\n",
            "Requirement already satisfied: tiktoken in /usr/local/lib/python3.12/dist-packages (from openai-whisper) (0.12.0)\n",
            "Requirement already satisfied: tqdm in /usr/local/lib/python3.12/dist-packages (from openai-whisper) (4.67.1)\n",
            "Requirement already satisfied: triton>=2 in /usr/local/lib/python3.12/dist-packages (from openai-whisper) (3.4.0)\n",
            "Requirement already satisfied: filelock in /usr/local/lib/python3.12/dist-packages (from transformers) (3.20.0)\n",
            "Requirement already satisfied: huggingface-hub<1.0,>=0.34.0 in /usr/local/lib/python3.12/dist-packages (from transformers) (0.35.3)\n",
            "Requirement already satisfied: packaging>=20.0 in /usr/local/lib/python3.12/dist-packages (from transformers) (25.0)\n",
            "Requirement already satisfied: pyyaml>=5.1 in /usr/local/lib/python3.12/dist-packages (from transformers) (6.0.3)\n",
            "Requirement already satisfied: regex!=2019.12.17 in /usr/local/lib/python3.12/dist-packages (from transformers) (2024.11.6)\n",
            "Requirement already satisfied: tokenizers<=0.23.0,>=0.22.0 in /usr/local/lib/python3.12/dist-packages (from transformers) (0.22.1)\n",
            "Requirement already satisfied: safetensors>=0.4.3 in /usr/local/lib/python3.12/dist-packages (from transformers) (0.6.2)\n",
            "Requirement already satisfied: typing-extensions>=4.10.0 in /usr/local/lib/python3.12/dist-packages (from torch) (4.15.0)\n",
            "Requirement already satisfied: setuptools in /usr/local/lib/python3.12/dist-packages (from torch) (75.2.0)\n",
            "Requirement already satisfied: sympy>=1.13.3 in /usr/local/lib/python3.12/dist-packages (from torch) (1.13.3)\n",
            "Requirement already satisfied: networkx in /usr/local/lib/python3.12/dist-packages (from torch) (3.5)\n",
            "Requirement already satisfied: jinja2 in /usr/local/lib/python3.12/dist-packages (from torch) (3.1.6)\n",
            "Requirement already satisfied: fsspec in /usr/local/lib/python3.12/dist-packages (from torch) (2025.3.0)\n",
            "Requirement already satisfied: nvidia-cuda-nvrtc-cu12==12.6.77 in /usr/local/lib/python3.12/dist-packages (from torch) (12.6.77)\n",
            "Requirement already satisfied: nvidia-cuda-runtime-cu12==12.6.77 in /usr/local/lib/python3.12/dist-packages (from torch) (12.6.77)\n",
            "Requirement already satisfied: nvidia-cuda-cupti-cu12==12.6.80 in /usr/local/lib/python3.12/dist-packages (from torch) (12.6.80)\n",
            "Requirement already satisfied: nvidia-cudnn-cu12==9.10.2.21 in /usr/local/lib/python3.12/dist-packages (from torch) (9.10.2.21)\n",
            "Requirement already satisfied: nvidia-cublas-cu12==12.6.4.1 in /usr/local/lib/python3.12/dist-packages (from torch) (12.6.4.1)\n",
            "Requirement already satisfied: nvidia-cufft-cu12==11.3.0.4 in /usr/local/lib/python3.12/dist-packages (from torch) (11.3.0.4)\n",
            "Requirement already satisfied: nvidia-curand-cu12==10.3.7.77 in /usr/local/lib/python3.12/dist-packages (from torch) (10.3.7.77)\n",
            "Requirement already satisfied: nvidia-cusolver-cu12==11.7.1.2 in /usr/local/lib/python3.12/dist-packages (from torch) (11.7.1.2)\n",
            "Requirement already satisfied: nvidia-cusparse-cu12==12.5.4.2 in /usr/local/lib/python3.12/dist-packages (from torch) (12.5.4.2)\n",
            "Requirement already satisfied: nvidia-cusparselt-cu12==0.7.1 in /usr/local/lib/python3.12/dist-packages (from torch) (0.7.1)\n",
            "Requirement already satisfied: nvidia-nccl-cu12==2.27.3 in /usr/local/lib/python3.12/dist-packages (from torch) (2.27.3)\n",
            "Requirement already satisfied: nvidia-nvtx-cu12==12.6.77 in /usr/local/lib/python3.12/dist-packages (from torch) (12.6.77)\n",
            "Requirement already satisfied: nvidia-nvjitlink-cu12==12.6.85 in /usr/local/lib/python3.12/dist-packages (from torch) (12.6.85)\n",
            "Requirement already satisfied: nvidia-cufile-cu12==1.11.1.6 in /usr/local/lib/python3.12/dist-packages (from torch) (1.11.1.6)\n",
            "Requirement already satisfied: blinker>=1.9.0 in /usr/local/lib/python3.12/dist-packages (from Flask>=0.8->flask-ngrok) (1.9.0)\n",
            "Requirement already satisfied: click>=8.1.3 in /usr/local/lib/python3.12/dist-packages (from Flask>=0.8->flask-ngrok) (8.3.0)\n",
            "Requirement already satisfied: itsdangerous>=2.2.0 in /usr/local/lib/python3.12/dist-packages (from Flask>=0.8->flask-ngrok) (2.2.0)\n",
            "Requirement already satisfied: markupsafe>=2.1.1 in /usr/local/lib/python3.12/dist-packages (from Flask>=0.8->flask-ngrok) (3.0.3)\n",
            "Requirement already satisfied: werkzeug>=3.1.0 in /usr/local/lib/python3.12/dist-packages (from Flask>=0.8->flask-ngrok) (3.1.3)\n",
            "Requirement already satisfied: hf-xet<2.0.0,>=1.1.3 in /usr/local/lib/python3.12/dist-packages (from huggingface-hub<1.0,>=0.34.0->transformers) (1.1.10)\n",
            "Requirement already satisfied: mpmath<1.4,>=1.1.0 in /usr/local/lib/python3.12/dist-packages (from sympy>=1.13.3->torch) (1.3.0)\n",
            "Requirement already satisfied: llvmlite<0.44,>=0.43.0dev0 in /usr/local/lib/python3.12/dist-packages (from numba->openai-whisper) (0.43.0)\n",
            "Requirement already satisfied: charset_normalizer<4,>=2 in /usr/local/lib/python3.12/dist-packages (from requests->flask-ngrok) (3.4.3)\n",
            "Requirement already satisfied: idna<4,>=2.5 in /usr/local/lib/python3.12/dist-packages (from requests->flask-ngrok) (3.10)\n",
            "Requirement already satisfied: urllib3<3,>=1.21.1 in /usr/local/lib/python3.12/dist-packages (from requests->flask-ngrok) (2.5.0)\n",
            "Requirement already satisfied: certifi>=2017.4.17 in /usr/local/lib/python3.12/dist-packages (from requests->flask-ngrok) (2025.10.5)\n"
          ]
        }
      ],
      "source": [
        "!pip install flask-ngrok openai-whisper transformers torch"
      ]
    },
    {
      "cell_type": "code",
      "execution_count": null,
      "metadata": {
        "colab": {
          "base_uri": "https://localhost:8080/"
        },
        "id": "aUSDfQyxtMt_",
        "outputId": "586dbfc5-7118-44e9-ff72-2f7077261293"
      },
      "outputs": [
        {
          "output_type": "stream",
          "name": "stderr",
          "text": [
            "Device set to use cpu\n"
          ]
        }
      ],
      "source": [
        "from flask import Flask, request, jsonify, render_template_string\n",
        "import whisper\n",
        "from transformers import pipeline\n",
        "from pyngrok import ngrok\n",
        "import torch\n",
        "\n",
        "# Load models\n",
        "asr_model = whisper.load_model(\"small\")   # speech-to-text\n",
        "summary_model = pipeline(\"summarization\", model=\"facebook/bart-large-cnn\")\n",
        "\n",
        "app = Flask(__name__)"
      ]
    },
    {
      "cell_type": "code",
      "execution_count": null,
      "metadata": {
        "id": "Z2fGj_nZ8S7h"
      },
      "outputs": [],
      "source": [
        "ngrok.set_auth_token(\"343bhED98AgKpTGW2LdZW2fPi98_3ZUC6BTL6oiwRUVypXvbB\")"
      ]
    },
    {
      "cell_type": "code",
      "execution_count": null,
      "metadata": {
        "id": "ks_qYj0gtu8h"
      },
      "outputs": [],
      "source": [
        "HTML_PAGE = \"\"\"\n",
        "<!DOCTYPE html>\n",
        "<html>\n",
        "<head>\n",
        "  <title>🎓 Lecture Voice-to-Notes</title>\n",
        "  <style>\n",
        "    body {\n",
        "      background: linear-gradient(135deg, #74ABE2, #5563DE);\n",
        "      font-family: 'Segoe UI', Tahoma, sans-serif;\n",
        "      color: white;\n",
        "      text-align: center;\n",
        "      padding: 40px;\n",
        "    }\n",
        "    .container {\n",
        "      background: rgba(255,255,255,0.15);\n",
        "      backdrop-filter: blur(10px);\n",
        "      border-radius: 20px;\n",
        "      padding: 30px;\n",
        "      max-width: 600px;\n",
        "      margin: auto;\n",
        "      box-shadow: 0 4px 20px rgba(0,0,0,0.2);\n",
        "    }\n",
        "    input[type=file] {\n",
        "      margin-top: 15px;\n",
        "      background: white;\n",
        "      border-radius: 10px;\n",
        "      padding: 10px;\n",
        "      color: black;\n",
        "    }\n",
        "    button {\n",
        "      background: #00C2CB;\n",
        "      color: white;\n",
        "      border: none;\n",
        "      border-radius: 10px;\n",
        "      padding: 10px 20px;\n",
        "      font-size: 16px;\n",
        "      margin: 10px;\n",
        "      cursor: pointer;\n",
        "      transition: background 0.3s;\n",
        "    }\n",
        "    button:hover { background: #0099A8; }\n",
        "    h2 { margin-bottom: 20px; }\n",
        "    h3 { color: #FFD700; }\n",
        "    audio { margin-top: 20px; }\n",
        "  </style>\n",
        "</head>\n",
        "<body>\n",
        "    <h1>🎓 Lecture Voice-to-Notes Generator</h1>\n",
        "  <div class=\"container\">\n",
        "\n",
        "\n",
        "    <!-- 🎙️ Recording Controls -->\n",
        "    <button id=\"recordBtn\">🎙️ Start Recording</button>\n",
        "    <button id=\"stopBtn\" disabled>⏹️ Stop</button>\n",
        "    <audio id=\"audioPlayback\" controls style=\"display:none;\"></audio>\n",
        "\n",
        "    <form id=\"uploadForm\" action=\"/upload\" method=\"post\" enctype=\"multipart/form-data\">\n",
        "        <input id=\"audioInput\" type=\"file\" name=\"audio\" accept=\"audio/*\" required><br>\n",
        "        <button type=\"submit\">📤 Upload & Convert</button>\n",
        "    </form>\n",
        "\n",
        "    {% if text %}\n",
        "    <h3>🗣 Transcribed Text:</h3>\n",
        "    <p>{{ text }}</p>\n",
        "    <h3>🧾 Summarized Notes:</h3>\n",
        "    <p>{{ summary }}</p>\n",
        "    {% endif %}\n",
        "  </div>\n",
        "\n",
        "  <script>\n",
        "    let mediaRecorder, audioChunks = [];\n",
        "    const recordBtn = document.getElementById(\"recordBtn\");\n",
        "    const stopBtn = document.getElementById(\"stopBtn\");\n",
        "    const audioInput = document.getElementById(\"audioInput\");\n",
        "    const audioPlayback = document.getElementById(\"audioPlayback\");\n",
        "\n",
        "    recordBtn.onclick = async () => {\n",
        "      const stream = await navigator.mediaDevices.getUserMedia({ audio: true });\n",
        "      mediaRecorder = new MediaRecorder(stream);\n",
        "      mediaRecorder.start();\n",
        "      recordBtn.disabled = true;\n",
        "      stopBtn.disabled = false;\n",
        "      audioChunks = [];\n",
        "\n",
        "      mediaRecorder.ondataavailable = e => { audioChunks.push(e.data); };\n",
        "      mediaRecorder.onstop = e => {\n",
        "        const audioBlob = new Blob(audioChunks, { type: 'audio/wav' });\n",
        "        const audioUrl = URL.createObjectURL(audioBlob);\n",
        "        audioPlayback.src = audioUrl;\n",
        "        audioPlayback.style.display = \"block\";\n",
        "\n",
        "        // Put blob into file input for upload\n",
        "        const file = new File([audioBlob], \"recorded.wav\", { type: \"audio/wav\" });\n",
        "        const dt = new DataTransfer();\n",
        "        dt.items.add(file);\n",
        "        audioInput.files = dt.files;\n",
        "      };\n",
        "    };\n",
        "\n",
        "    stopBtn.onclick = () => {\n",
        "      mediaRecorder.stop();\n",
        "      recordBtn.disabled = false;\n",
        "      stopBtn.disabled = true;\n",
        "    };\n",
        "  </script>\n",
        "</body>\n",
        "</html>\n",
        "\"\"\"\n",
        "\n",
        "\n",
        "@app.route('/')\n",
        "def index():\n",
        "    return render_template_string(HTML_PAGE)\n",
        "\n",
        "@app.route('/upload', methods=['GET','POST'])\n",
        "def upload_audio():\n",
        "    audio_file = request.files['audio']\n",
        "    path = \"uploaded.wav\"\n",
        "    audio_file.save(path)\n",
        "\n",
        "    result = asr_model.transcribe(path)\n",
        "    text = result['text']\n",
        "\n",
        "    summary = summary_model(text, max_length=100, min_length=30, do_sample=False)[0]['summary_text']\n",
        "\n",
        "    return render_template_string(HTML_PAGE, text=text, summary=summary)\n"
      ]
    },
    {
      "cell_type": "code",
      "execution_count": null,
      "metadata": {
        "colab": {
          "base_uri": "https://localhost:8080/"
        },
        "id": "Off4-6bTuaum",
        "outputId": "4fd361bb-90f0-4ecb-8f92-545a8de1b899"
      },
      "outputs": [
        {
          "metadata": {
            "tags": null
          },
          "name": "stdout",
          "output_type": "stream",
          "text": [
            "🌐 Public URL: NgrokTunnel: \"https://sapotaceous-melissa-unimpropriated.ngrok-free.dev\" -> \"http://localhost:5000\"\n",
            " * Serving Flask app '__main__'\n",
            " * Debug mode: off\n"
          ]
        },
        {
          "metadata": {
            "tags": null
          },
          "name": "stderr",
          "output_type": "stream",
          "text": [
            "INFO:werkzeug:\u001b[31m\u001b[1mWARNING: This is a development server. Do not use it in a production deployment. Use a production WSGI server instead.\u001b[0m\n",
            " * Running on http://127.0.0.1:5000\n",
            "INFO:werkzeug:\u001b[33mPress CTRL+C to quit\u001b[0m\n"
          ]
        }
      ],
      "source": [
        "public_url = ngrok.connect(5000)\n",
        "print(\"🌐 Public URL:\", public_url)\n",
        "app.run()"
      ]
    },
    {
      "cell_type": "code",
      "execution_count": null,
      "metadata": {
        "id": "AXgEudhhubCn"
      },
      "outputs": [],
      "source": []
    }
  ],
  "metadata": {
    "colab": {
      "provenance": []
    },
    "kernelspec": {
      "display_name": "Python 3",
      "name": "python3"
    },
    "language_info": {
      "name": "python"
    }
  },
  "nbformat": 4,
  "nbformat_minor": 0
}